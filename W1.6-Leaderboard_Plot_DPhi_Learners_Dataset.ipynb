{
  "nbformat": 4,
  "nbformat_minor": 0,
  "metadata": {
    "colab": {
      "name": "Leaderboard Plot_DPhi Learners Dataset",
      "provenance": [],
      "collapsed_sections": [],
      "toc_visible": true
    },
    "kernelspec": {
      "name": "python3",
      "display_name": "Python 3"
    }
  },
  "cells": [
    {
      "cell_type": "markdown",
      "metadata": {
        "id": "8XJiY6ufgtJM",
        "colab_type": "text"
      },
      "source": [
        "---\n",
        "# Leader Board Plots\n",
        "---"
      ]
    },
    {
      "cell_type": "markdown",
      "metadata": {
        "id": "ex8Y9wmGDmk6",
        "colab_type": "text"
      },
      "source": [
        "**Author:** Pascal Wiltschko (Coach)\n"
      ]
    },
    {
      "cell_type": "markdown",
      "metadata": {
        "id": "2jwjlLDLEiUv",
        "colab_type": "text"
      },
      "source": [
        "Link to Dataset: https://bit.ly/DPhi_LearnerGroups"
      ]
    },
    {
      "cell_type": "markdown",
      "metadata": {
        "id": "gpf6GgprslKs",
        "colab_type": "text"
      },
      "source": [
        "# Application of Visualization on Learners Dataset (real-dataset)\n"
      ]
    },
    {
      "cell_type": "markdown",
      "metadata": {
        "id": "uyWdhusRZFI-",
        "colab_type": "text"
      },
      "source": [
        "Hey there. If you are curious how I made the two leaderboard plots that were shown in todays session, this short notebook is for you!"
      ]
    },
    {
      "cell_type": "markdown",
      "metadata": {
        "id": "uccXUKzNYGOQ",
        "colab_type": "text"
      },
      "source": [
        "---\n",
        "## Import Modules\n",
        "---"
      ]
    },
    {
      "cell_type": "markdown",
      "metadata": {
        "id": "2uA-EKbKY_tI",
        "colab_type": "text"
      },
      "source": [
        "First, we import the needed modules."
      ]
    },
    {
      "cell_type": "code",
      "metadata": {
        "id": "HXQLDkDxWOmf",
        "colab_type": "code",
        "colab": {}
      },
      "source": [
        "%matplotlib inline\n",
        "import pandas as pd\n",
        "import numpy as np\n",
        "import matplotlib.pyplot as plt\n",
        "import seaborn as sns"
      ],
      "execution_count": null,
      "outputs": []
    },
    {
      "cell_type": "markdown",
      "metadata": {
        "id": "89LVP4gPYMf9",
        "colab_type": "text"
      },
      "source": [
        "---\n",
        "## Import Data\n",
        "---"
      ]
    },
    {
      "cell_type": "markdown",
      "metadata": {
        "id": "8xjEVaMQZUwO",
        "colab_type": "text"
      },
      "source": [
        "Next, we import the data using pandas. For Excel data, it is important to select which sheet you want to work with.\n",
        "\n",
        "Looking at the data types, it is visible that all columns were imported as \"object\", what we might want to change later."
      ]
    },
    {
      "cell_type": "code",
      "metadata": {
        "id": "N1c94VPBoGdk",
        "colab_type": "code",
        "colab": {
          "resources": {
            "http://localhost:8080/nbextensions/google.colab/files.js": {
              "data": "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",
              "ok": true,
              "headers": [
                [
                  "content-type",
                  "application/javascript"
                ]
              ],
              "status": 200,
              "status_text": ""
            }
          },
          "base_uri": "https://localhost:8080/",
          "height": 112
        },
        "outputId": "0921620b-3cef-4321-c85f-f4af42714b1c"
      },
      "source": [
        "# Only for Google Colab users\n",
        "from google.colab import files\n",
        "uploaded = files.upload()"
      ],
      "execution_count": null,
      "outputs": [
        {
          "output_type": "display_data",
          "data": {
            "text/html": [
              "\n",
              "     <input type=\"file\" id=\"files-d04dcb19-9f71-4c34-88f4-35d88fe710e3\" name=\"files[]\" multiple disabled />\n",
              "     <output id=\"result-d04dcb19-9f71-4c34-88f4-35d88fe710e3\">\n",
              "      Upload widget is only available when the cell has been executed in the\n",
              "      current browser session. Please rerun this cell to enable.\n",
              "      </output>\n",
              "      <script src=\"/nbextensions/google.colab/files.js\"></script> "
            ],
            "text/plain": [
              "<IPython.core.display.HTML object>"
            ]
          },
          "metadata": {
            "tags": []
          }
        },
        {
          "output_type": "stream",
          "text": [
            "Saving DPhi - Learners - Beginners & Absolute Beginners - Real Dataset - DPhi_Learners.csv to DPhi - Learners - Beginners & Absolute Beginners - Real Dataset - DPhi_Learners (1).csv\n"
          ],
          "name": "stdout"
        }
      ]
    },
    {
      "cell_type": "code",
      "metadata": {
        "id": "seSUqfb5Wa-P",
        "colab_type": "code",
        "colab": {
          "base_uri": "https://localhost:8080/",
          "height": 326
        },
        "outputId": "366b2460-b904-4936-f6ec-e9e6e044e373"
      },
      "source": [
        "# week 0 (and 1 quiz from week 1)\n",
        "df = pd.read_csv(\"DPhi - Learners - Beginners & Absolute Beginners - Real Dataset - DPhi_Learners.csv\")\n",
        "df.info()"
      ],
      "execution_count": null,
      "outputs": [
        {
          "output_type": "stream",
          "text": [
            "<class 'pandas.core.frame.DataFrame'>\n",
            "RangeIndex: 1447 entries, 0 to 1446\n",
            "Data columns (total 11 columns):\n",
            " #   Column            Non-Null Count  Dtype \n",
            "---  ------            --------------  ----- \n",
            " 0   Learner_ID        1447 non-null   object\n",
            " 1   Quiz1             1447 non-null   object\n",
            " 2   Quiz2             1447 non-null   object\n",
            " 3   Quiz3             1447 non-null   object\n",
            " 4   Quiz4             1447 non-null   object\n",
            " 5   Quiz5             1447 non-null   object\n",
            " 6   Quiz6             1447 non-null   object\n",
            " 7   Quiz7             1447 non-null   object\n",
            " 8   Total_Score       1447 non-null   object\n",
            " 9   Group_ID          1447 non-null   object\n",
            " 10  Learner_Category  1447 non-null   object\n",
            "dtypes: object(11)\n",
            "memory usage: 124.5+ KB\n"
          ],
          "name": "stdout"
        }
      ]
    },
    {
      "cell_type": "code",
      "metadata": {
        "id": "I62uSciwadTE",
        "colab_type": "code",
        "colab": {
          "base_uri": "https://localhost:8080/",
          "height": 203
        },
        "outputId": "a59ab5e4-05f0-4681-c0d2-fc1d9b2327dc"
      },
      "source": [
        "df.head()"
      ],
      "execution_count": null,
      "outputs": [
        {
          "output_type": "execute_result",
          "data": {
            "text/html": [
              "<div>\n",
              "<style scoped>\n",
              "    .dataframe tbody tr th:only-of-type {\n",
              "        vertical-align: middle;\n",
              "    }\n",
              "\n",
              "    .dataframe tbody tr th {\n",
              "        vertical-align: top;\n",
              "    }\n",
              "\n",
              "    .dataframe thead th {\n",
              "        text-align: right;\n",
              "    }\n",
              "</style>\n",
              "<table border=\"1\" class=\"dataframe\">\n",
              "  <thead>\n",
              "    <tr style=\"text-align: right;\">\n",
              "      <th></th>\n",
              "      <th>Learner_ID</th>\n",
              "      <th>Quiz1</th>\n",
              "      <th>Quiz2</th>\n",
              "      <th>Quiz3</th>\n",
              "      <th>Quiz4</th>\n",
              "      <th>Quiz5</th>\n",
              "      <th>Quiz6</th>\n",
              "      <th>Quiz7</th>\n",
              "      <th>Total_Score</th>\n",
              "      <th>Group_ID</th>\n",
              "      <th>Learner_Category</th>\n",
              "    </tr>\n",
              "  </thead>\n",
              "  <tbody>\n",
              "    <tr>\n",
              "      <th>0</th>\n",
              "      <td>AB1</td>\n",
              "      <td>10</td>\n",
              "      <td>10</td>\n",
              "      <td>8</td>\n",
              "      <td>9</td>\n",
              "      <td>10</td>\n",
              "      <td>10</td>\n",
              "      <td>10</td>\n",
              "      <td>67</td>\n",
              "      <td>AB_G1</td>\n",
              "      <td>Absolute Beginner</td>\n",
              "    </tr>\n",
              "    <tr>\n",
              "      <th>1</th>\n",
              "      <td>AB2</td>\n",
              "      <td>10</td>\n",
              "      <td>10</td>\n",
              "      <td>10</td>\n",
              "      <td>9</td>\n",
              "      <td>10</td>\n",
              "      <td>9.09</td>\n",
              "      <td>NaN</td>\n",
              "      <td>58.09</td>\n",
              "      <td>AB_G1</td>\n",
              "      <td>Absolute Beginner</td>\n",
              "    </tr>\n",
              "    <tr>\n",
              "      <th>2</th>\n",
              "      <td>AB3</td>\n",
              "      <td>NaN</td>\n",
              "      <td>NaN</td>\n",
              "      <td>NaN</td>\n",
              "      <td>NaN</td>\n",
              "      <td>NaN</td>\n",
              "      <td>NaN</td>\n",
              "      <td>NaN</td>\n",
              "      <td>NaN</td>\n",
              "      <td>AB_G1</td>\n",
              "      <td>Absolute Beginner</td>\n",
              "    </tr>\n",
              "    <tr>\n",
              "      <th>3</th>\n",
              "      <td>AB4</td>\n",
              "      <td>NaN</td>\n",
              "      <td>NaN</td>\n",
              "      <td>NaN</td>\n",
              "      <td>NaN</td>\n",
              "      <td>NaN</td>\n",
              "      <td>NaN</td>\n",
              "      <td>NaN</td>\n",
              "      <td>NaN</td>\n",
              "      <td>AB_G1</td>\n",
              "      <td>Absolute Beginner</td>\n",
              "    </tr>\n",
              "    <tr>\n",
              "      <th>4</th>\n",
              "      <td>AB5</td>\n",
              "      <td>10</td>\n",
              "      <td>10</td>\n",
              "      <td>9</td>\n",
              "      <td>9</td>\n",
              "      <td>10</td>\n",
              "      <td>8.18</td>\n",
              "      <td>10</td>\n",
              "      <td>66.18</td>\n",
              "      <td>AB_G1</td>\n",
              "      <td>Absolute Beginner</td>\n",
              "    </tr>\n",
              "  </tbody>\n",
              "</table>\n",
              "</div>"
            ],
            "text/plain": [
              "  Learner_ID Quiz1 Quiz2 Quiz3  ... Quiz7 Total_Score Group_ID   Learner_Category\n",
              "0        AB1    10    10     8  ...    10          67    AB_G1  Absolute Beginner\n",
              "1        AB2    10    10    10  ...   NaN       58.09    AB_G1  Absolute Beginner\n",
              "2        AB3   NaN   NaN   NaN  ...   NaN         NaN    AB_G1  Absolute Beginner\n",
              "3        AB4   NaN   NaN   NaN  ...   NaN         NaN    AB_G1  Absolute Beginner\n",
              "4        AB5    10    10     9  ...    10       66.18    AB_G1  Absolute Beginner\n",
              "\n",
              "[5 rows x 11 columns]"
            ]
          },
          "metadata": {
            "tags": []
          },
          "execution_count": 28
        }
      ]
    },
    {
      "cell_type": "markdown",
      "metadata": {
        "id": "XjYLRuFyYOuA",
        "colab_type": "text"
      },
      "source": [
        "---\n",
        "## Transform Data\n",
        "---"
      ]
    },
    {
      "cell_type": "markdown",
      "metadata": {
        "id": "CaM2SLBfZrfE",
        "colab_type": "text"
      },
      "source": [
        "Because the original column names are very long and contain spaces, we replace them with shorter ones. You can just create a list and assign it to the \"columns\" attribute of the data frame. \n",
        "\n",
        "An alternative would be to use a dictionary and the df.rename() method. This is especially handy if you only want to rename a subset of the columns, so keep that in mind!"
      ]
    },
    {
      "cell_type": "markdown",
      "metadata": {
        "id": "WkfjLdmkaVrl",
        "colab_type": "text"
      },
      "source": [
        "Because we only want the leader board for one group, we subset the data."
      ]
    },
    {
      "cell_type": "code",
      "metadata": {
        "id": "vByozZATWzQw",
        "colab_type": "code",
        "colab": {}
      },
      "source": [
        "# filter for ab_g13\n",
        "df = df[df.Group_ID == \"AB_G1\"]"
      ],
      "execution_count": null,
      "outputs": []
    },
    {
      "cell_type": "markdown",
      "metadata": {
        "id": "42J3WM1naaXt",
        "colab_type": "text"
      },
      "source": [
        "Also, we realize that missing values were entered as \"-\" characters. This is also the reason why all dtypes were imported as \"object\". Replacing them with numpy's NaN solves this and we now have more appropriate dtypes."
      ]
    },
    {
      "cell_type": "code",
      "metadata": {
        "id": "sF0uJOGBXPE3",
        "colab_type": "code",
        "colab": {}
      },
      "source": [
        "# replace \"-\" by NAN\n",
        "df = df.replace(\"-\", np.nan)"
      ],
      "execution_count": null,
      "outputs": []
    },
    {
      "cell_type": "code",
      "metadata": {
        "id": "5RdZ6ozqa_kI",
        "colab_type": "code",
        "colab": {
          "base_uri": "https://localhost:8080/",
          "height": 326
        },
        "outputId": "92ee9341-09c1-4fc4-bfc5-0e8e93ed272a"
      },
      "source": [
        "df.info()"
      ],
      "execution_count": null,
      "outputs": [
        {
          "output_type": "stream",
          "text": [
            "<class 'pandas.core.frame.DataFrame'>\n",
            "Int64Index: 32 entries, 0 to 31\n",
            "Data columns (total 11 columns):\n",
            " #   Column            Non-Null Count  Dtype \n",
            "---  ------            --------------  ----- \n",
            " 0   Learner_ID        32 non-null     object\n",
            " 1   Quiz1             19 non-null     object\n",
            " 2   Quiz2             17 non-null     object\n",
            " 3   Quiz3             16 non-null     object\n",
            " 4   Quiz4             16 non-null     object\n",
            " 5   Quiz5             14 non-null     object\n",
            " 6   Quiz6             11 non-null     object\n",
            " 7   Quiz7             3 non-null      object\n",
            " 8   Total_Score       19 non-null     object\n",
            " 9   Group_ID          32 non-null     object\n",
            " 10  Learner_Category  32 non-null     object\n",
            "dtypes: object(11)\n",
            "memory usage: 3.0+ KB\n"
          ],
          "name": "stdout"
        }
      ]
    },
    {
      "cell_type": "code",
      "metadata": {
        "id": "uOsJBvHNuz0C",
        "colab_type": "code",
        "colab": {
          "base_uri": "https://localhost:8080/",
          "height": 203
        },
        "outputId": "ca91cfb9-0b53-4fe2-ea7c-2680fe8c8699"
      },
      "source": [
        "df.head()"
      ],
      "execution_count": null,
      "outputs": [
        {
          "output_type": "execute_result",
          "data": {
            "text/html": [
              "<div>\n",
              "<style scoped>\n",
              "    .dataframe tbody tr th:only-of-type {\n",
              "        vertical-align: middle;\n",
              "    }\n",
              "\n",
              "    .dataframe tbody tr th {\n",
              "        vertical-align: top;\n",
              "    }\n",
              "\n",
              "    .dataframe thead th {\n",
              "        text-align: right;\n",
              "    }\n",
              "</style>\n",
              "<table border=\"1\" class=\"dataframe\">\n",
              "  <thead>\n",
              "    <tr style=\"text-align: right;\">\n",
              "      <th></th>\n",
              "      <th>Learner_ID</th>\n",
              "      <th>Quiz1</th>\n",
              "      <th>Quiz2</th>\n",
              "      <th>Quiz3</th>\n",
              "      <th>Quiz4</th>\n",
              "      <th>Quiz5</th>\n",
              "      <th>Quiz6</th>\n",
              "      <th>Quiz7</th>\n",
              "      <th>Total_Score</th>\n",
              "      <th>Group_ID</th>\n",
              "      <th>Learner_Category</th>\n",
              "    </tr>\n",
              "  </thead>\n",
              "  <tbody>\n",
              "    <tr>\n",
              "      <th>0</th>\n",
              "      <td>AB1</td>\n",
              "      <td>10</td>\n",
              "      <td>10</td>\n",
              "      <td>8</td>\n",
              "      <td>9</td>\n",
              "      <td>10</td>\n",
              "      <td>10</td>\n",
              "      <td>10</td>\n",
              "      <td>67</td>\n",
              "      <td>AB_G1</td>\n",
              "      <td>Absolute Beginner</td>\n",
              "    </tr>\n",
              "    <tr>\n",
              "      <th>1</th>\n",
              "      <td>AB2</td>\n",
              "      <td>10</td>\n",
              "      <td>10</td>\n",
              "      <td>10</td>\n",
              "      <td>9</td>\n",
              "      <td>10</td>\n",
              "      <td>9.09</td>\n",
              "      <td>NaN</td>\n",
              "      <td>58.09</td>\n",
              "      <td>AB_G1</td>\n",
              "      <td>Absolute Beginner</td>\n",
              "    </tr>\n",
              "    <tr>\n",
              "      <th>2</th>\n",
              "      <td>AB3</td>\n",
              "      <td>NaN</td>\n",
              "      <td>NaN</td>\n",
              "      <td>NaN</td>\n",
              "      <td>NaN</td>\n",
              "      <td>NaN</td>\n",
              "      <td>NaN</td>\n",
              "      <td>NaN</td>\n",
              "      <td>NaN</td>\n",
              "      <td>AB_G1</td>\n",
              "      <td>Absolute Beginner</td>\n",
              "    </tr>\n",
              "    <tr>\n",
              "      <th>3</th>\n",
              "      <td>AB4</td>\n",
              "      <td>NaN</td>\n",
              "      <td>NaN</td>\n",
              "      <td>NaN</td>\n",
              "      <td>NaN</td>\n",
              "      <td>NaN</td>\n",
              "      <td>NaN</td>\n",
              "      <td>NaN</td>\n",
              "      <td>NaN</td>\n",
              "      <td>AB_G1</td>\n",
              "      <td>Absolute Beginner</td>\n",
              "    </tr>\n",
              "    <tr>\n",
              "      <th>4</th>\n",
              "      <td>AB5</td>\n",
              "      <td>10</td>\n",
              "      <td>10</td>\n",
              "      <td>9</td>\n",
              "      <td>9</td>\n",
              "      <td>10</td>\n",
              "      <td>8.18</td>\n",
              "      <td>10</td>\n",
              "      <td>66.18</td>\n",
              "      <td>AB_G1</td>\n",
              "      <td>Absolute Beginner</td>\n",
              "    </tr>\n",
              "  </tbody>\n",
              "</table>\n",
              "</div>"
            ],
            "text/plain": [
              "  Learner_ID Quiz1 Quiz2 Quiz3  ... Quiz7 Total_Score Group_ID   Learner_Category\n",
              "0        AB1    10    10     8  ...    10          67    AB_G1  Absolute Beginner\n",
              "1        AB2    10    10    10  ...   NaN       58.09    AB_G1  Absolute Beginner\n",
              "2        AB3   NaN   NaN   NaN  ...   NaN         NaN    AB_G1  Absolute Beginner\n",
              "3        AB4   NaN   NaN   NaN  ...   NaN         NaN    AB_G1  Absolute Beginner\n",
              "4        AB5    10    10     9  ...    10       66.18    AB_G1  Absolute Beginner\n",
              "\n",
              "[5 rows x 11 columns]"
            ]
          },
          "metadata": {
            "tags": []
          },
          "execution_count": 32
        }
      ]
    },
    {
      "cell_type": "markdown",
      "metadata": {
        "id": "dEPtngvWbDD3",
        "colab_type": "text"
      },
      "source": [
        "Let's look at the a table of the leader board before plotting it! We first filter for positive scores and the required columns and then sort by the total score. To make the index start from zero we reset it."
      ]
    },
    {
      "cell_type": "code",
      "metadata": {
        "id": "AWJedpt0vw_0",
        "colab_type": "code",
        "colab": {}
      },
      "source": [
        "#  df[\"Total_Score\"] = pd.to_numeric(df[\"Total_Score\"])\n",
        "# df[\"Quiz1\"] = pd.to_numeric(df[\"Quiz1\"])\n",
        "# df[\"Quiz1\"] = pd.to_numeric(df[\"Quiz1\"])\n",
        "# df[\"Quiz1\"] = pd.to_numeric(df[\"Quiz1\"])\n",
        "# df[\"Quiz1\"] = pd.to_numeric(df[\"Quiz1\"])\n",
        "cols = df.columns.drop(['Learner_ID', 'Group_ID', 'Learner_Category'])\n",
        "df[cols] = df[cols].apply(pd.to_numeric)"
      ],
      "execution_count": null,
      "outputs": []
    },
    {
      "cell_type": "code",
      "metadata": {
        "id": "PjtyjyFV7nsw",
        "colab_type": "code",
        "colab": {
          "base_uri": "https://localhost:8080/",
          "height": 326
        },
        "outputId": "248e819f-44ed-42a2-da60-b7b55244fcd1"
      },
      "source": [
        "df.info()"
      ],
      "execution_count": null,
      "outputs": [
        {
          "output_type": "stream",
          "text": [
            "<class 'pandas.core.frame.DataFrame'>\n",
            "Int64Index: 32 entries, 0 to 31\n",
            "Data columns (total 11 columns):\n",
            " #   Column            Non-Null Count  Dtype  \n",
            "---  ------            --------------  -----  \n",
            " 0   Learner_ID        32 non-null     object \n",
            " 1   Quiz1             19 non-null     float64\n",
            " 2   Quiz2             17 non-null     float64\n",
            " 3   Quiz3             16 non-null     float64\n",
            " 4   Quiz4             16 non-null     float64\n",
            " 5   Quiz5             14 non-null     float64\n",
            " 6   Quiz6             11 non-null     float64\n",
            " 7   Quiz7             3 non-null      float64\n",
            " 8   Total_Score       19 non-null     float64\n",
            " 9   Group_ID          32 non-null     object \n",
            " 10  Learner_Category  32 non-null     object \n",
            "dtypes: float64(8), object(3)\n",
            "memory usage: 3.0+ KB\n"
          ],
          "name": "stdout"
        }
      ]
    },
    {
      "cell_type": "code",
      "metadata": {
        "id": "3WLXX-tJXQkX",
        "colab_type": "code",
        "colab": {
          "base_uri": "https://localhost:8080/",
          "height": 360
        },
        "outputId": "2c0b33aa-00da-45ed-d68c-ca9a0fe458ec"
      },
      "source": [
        "# get leader list\n",
        "leaderboard_list = (df.loc[df[\"Total_Score\"] > 0, [\"Learner_ID\", \"Total_Score\"]]\n",
        "                    .sort_values(\"Total_Score\", ascending=False)\n",
        "                    .reset_index(drop=True))\n",
        "print(leaderboard_list)"
      ],
      "execution_count": null,
      "outputs": [
        {
          "output_type": "stream",
          "text": [
            "   Learner_ID  Total_Score\n",
            "0        AB29        67.14\n",
            "1         AB1        67.00\n",
            "2         AB5        66.18\n",
            "3        AB20        59.50\n",
            "4        AB27        58.64\n",
            "5        AB22        58.64\n",
            "6         AB2        58.09\n",
            "7        AB23        54.14\n",
            "8        AB28        49.64\n",
            "9         AB7        49.00\n",
            "10       AB31        48.14\n",
            "11       AB14        47.00\n",
            "12       AB25        46.00\n",
            "13       AB10        35.50\n",
            "14       AB19        32.00\n",
            "15       AB12        32.00\n",
            "16       AB15        17.00\n",
            "17        AB9        10.00\n",
            "18       AB32         3.00\n"
          ],
          "name": "stdout"
        }
      ]
    },
    {
      "cell_type": "markdown",
      "metadata": {
        "id": "JOMCxNf_ba_X",
        "colab_type": "text"
      },
      "source": [
        "Now, it is almost time to create the plots. Looking at the seaborn documentation on how to create a heatmap, we realize that a specific layout is required. It involves the names on the y-axis as index and names on the x-axis as columns. The values we want to use in the heatmap are the only ones we should keep in the data frame.\n",
        "\n",
        "Below, we again filter for positive scores, sort by the total score, drop columns we do not need and eventually, we replace the index by the name column."
      ]
    },
    {
      "cell_type": "code",
      "metadata": {
        "id": "T3U2VgP1X1Rc",
        "colab_type": "code",
        "colab": {}
      },
      "source": [
        "# heatmap df\n",
        "df_heatmap = (df[df[\"Total_Score\"] > 0]\n",
        "              .sort_values(\"Total_Score\", ascending=False)\n",
        "              .drop([\"Total_Score\", \"Group_ID\", \"Learner_Category\"], axis=1)\n",
        "              .set_index(\"Learner_ID\"))"
      ],
      "execution_count": null,
      "outputs": []
    },
    {
      "cell_type": "code",
      "metadata": {
        "id": "Pp3XiJEte_WA",
        "colab_type": "code",
        "colab": {
          "base_uri": "https://localhost:8080/",
          "height": 234
        },
        "outputId": "cf133cde-d171-4665-bcb6-51becacd6322"
      },
      "source": [
        "df_heatmap.head()"
      ],
      "execution_count": null,
      "outputs": [
        {
          "output_type": "execute_result",
          "data": {
            "text/html": [
              "<div>\n",
              "<style scoped>\n",
              "    .dataframe tbody tr th:only-of-type {\n",
              "        vertical-align: middle;\n",
              "    }\n",
              "\n",
              "    .dataframe tbody tr th {\n",
              "        vertical-align: top;\n",
              "    }\n",
              "\n",
              "    .dataframe thead th {\n",
              "        text-align: right;\n",
              "    }\n",
              "</style>\n",
              "<table border=\"1\" class=\"dataframe\">\n",
              "  <thead>\n",
              "    <tr style=\"text-align: right;\">\n",
              "      <th></th>\n",
              "      <th>Quiz1</th>\n",
              "      <th>Quiz2</th>\n",
              "      <th>Quiz3</th>\n",
              "      <th>Quiz4</th>\n",
              "      <th>Quiz5</th>\n",
              "      <th>Quiz6</th>\n",
              "      <th>Quiz7</th>\n",
              "    </tr>\n",
              "    <tr>\n",
              "      <th>Learner_ID</th>\n",
              "      <th></th>\n",
              "      <th></th>\n",
              "      <th></th>\n",
              "      <th></th>\n",
              "      <th></th>\n",
              "      <th></th>\n",
              "      <th></th>\n",
              "    </tr>\n",
              "  </thead>\n",
              "  <tbody>\n",
              "    <tr>\n",
              "      <th>AB29</th>\n",
              "      <td>10.0</td>\n",
              "      <td>9.5</td>\n",
              "      <td>9.0</td>\n",
              "      <td>10.0</td>\n",
              "      <td>10.0</td>\n",
              "      <td>8.64</td>\n",
              "      <td>10.0</td>\n",
              "    </tr>\n",
              "    <tr>\n",
              "      <th>AB1</th>\n",
              "      <td>10.0</td>\n",
              "      <td>10.0</td>\n",
              "      <td>8.0</td>\n",
              "      <td>9.0</td>\n",
              "      <td>10.0</td>\n",
              "      <td>10.00</td>\n",
              "      <td>10.0</td>\n",
              "    </tr>\n",
              "    <tr>\n",
              "      <th>AB5</th>\n",
              "      <td>10.0</td>\n",
              "      <td>10.0</td>\n",
              "      <td>9.0</td>\n",
              "      <td>9.0</td>\n",
              "      <td>10.0</td>\n",
              "      <td>8.18</td>\n",
              "      <td>10.0</td>\n",
              "    </tr>\n",
              "    <tr>\n",
              "      <th>AB20</th>\n",
              "      <td>10.0</td>\n",
              "      <td>9.5</td>\n",
              "      <td>10.0</td>\n",
              "      <td>10.0</td>\n",
              "      <td>10.0</td>\n",
              "      <td>10.00</td>\n",
              "      <td>NaN</td>\n",
              "    </tr>\n",
              "    <tr>\n",
              "      <th>AB27</th>\n",
              "      <td>10.0</td>\n",
              "      <td>10.0</td>\n",
              "      <td>10.0</td>\n",
              "      <td>10.0</td>\n",
              "      <td>10.0</td>\n",
              "      <td>8.64</td>\n",
              "      <td>NaN</td>\n",
              "    </tr>\n",
              "  </tbody>\n",
              "</table>\n",
              "</div>"
            ],
            "text/plain": [
              "            Quiz1  Quiz2  Quiz3  Quiz4  Quiz5  Quiz6  Quiz7\n",
              "Learner_ID                                                 \n",
              "AB29         10.0    9.5    9.0   10.0   10.0   8.64   10.0\n",
              "AB1          10.0   10.0    8.0    9.0   10.0  10.00   10.0\n",
              "AB5          10.0   10.0    9.0    9.0   10.0   8.18   10.0\n",
              "AB20         10.0    9.5   10.0   10.0   10.0  10.00    NaN\n",
              "AB27         10.0   10.0   10.0   10.0   10.0   8.64    NaN"
            ]
          },
          "metadata": {
            "tags": []
          },
          "execution_count": 43
        }
      ]
    },
    {
      "cell_type": "markdown",
      "metadata": {
        "id": "Zz0hbStlYVRx",
        "colab_type": "text"
      },
      "source": [
        "---\n",
        "## Visualization \n",
        "---"
      ]
    },
    {
      "cell_type": "markdown",
      "metadata": {
        "id": "Ag5XZQuocDf_",
        "colab_type": "text"
      },
      "source": [
        "Now, we initialize both figure and axis objects we use to make the plot. We want a subplot with one row and two columns and a certain size so that everything is clearly visible.\n",
        "\n",
        "If this way of specifying a matplotlib plot is unfamiliar to you, please check out: https://matplotlib.org/3.2.1/tutorials/introductory/lifecycle.html."
      ]
    },
    {
      "cell_type": "markdown",
      "metadata": {
        "id": "b0RKv1orcxTL",
        "colab_type": "text"
      },
      "source": [
        "For the heatmap, we select the colormap to be \"BuGn\" and specify that NaN values should get the color \"lightgray\". Then we set up the plot using sns.heatmap() using the df we created earlier and select that the numbers should also be included in the rectangles by setting annot=True.\n",
        "\n",
        "Also remember that if we use the object oriented API of matplotlib, we have to use the \"ax\" object to make changes to the plot. In the seaborn call, we also have to select on which of the two axes of the subplot we want to draw the graph. In our case, the left one is ax[0] and the right one is ax[1]. We then rotate the ticks to make them more readable and set a title."
      ]
    },
    {
      "cell_type": "markdown",
      "metadata": {
        "id": "jt2xu5wQeEzR",
        "colab_type": "text"
      },
      "source": [
        "Finally, we also create the barchart that displays the total counts. We add annotations containing the total scores next to the bars by iterating over the ax object. If this looks complicated to you, remember that you can just copy it for your own plots for now and come back to it once you have explored the library more. To avoid labels that are cut-off, we increase the limits on the x-axis."
      ]
    },
    {
      "cell_type": "code",
      "metadata": {
        "id": "07mXRoFqX-Pp",
        "colab_type": "code",
        "colab": {
          "base_uri": "https://localhost:8080/",
          "height": 392
        },
        "outputId": "a237fd1b-2ca1-47a4-ac62-11f0ff60ea27"
      },
      "source": [
        "# initialize plot\n",
        "fig, ax = plt.subplots(1, 2, figsize=(16, 6))\n",
        "# heatmap\n",
        "plt.cm.get_cmap(name=\"BuGn\").set_bad(\"lightgray\")\n",
        "heatmap = sns.heatmap(df_heatmap, cmap=\"BuGn\", annot=True, linewidths=.5, ax=ax[0])\n",
        "heatmap.set_xticklabels(heatmap.get_xticklabels(), rotation=45)\n",
        "ax[0].set_title(\"Score per Quiz\")\n",
        "# bar chart\n",
        "sns.barplot(x=\"Total_Score\", y=\"Learner_ID\", data=leaderboard_list, ax=ax[1])\n",
        "ax[1].set_xlim(0, 70)\n",
        "ax[1].set_title(\"Total Score\")\n",
        "for p in ax[1].patches:\n",
        "    ax[1].annotate(\"{0:.2f}\".format(p.get_width()),\n",
        "                   xy=(p.get_width(), p.get_y() + p.get_height() / 2),\n",
        "                   xytext=(5, 0),\n",
        "                   textcoords='offset points',\n",
        "                   ha=\"left\",\n",
        "                   va=\"center\")\n",
        "plt.show()"
      ],
      "execution_count": null,
      "outputs": [
        {
          "output_type": "display_data",
          "data": {
            "image/png": "[encoded data removed]",
            "text/plain": [
              "<Figure size 1152x432 with 3 Axes>"
            ]
          },
          "metadata": {
            "tags": [],
            "needs_background": "light"
          }
        }
      ]
    },
    {
      "cell_type": "markdown",
      "metadata": {
        "id": "gr65lbPvgzy4",
        "colab_type": "text"
      },
      "source": [
        "Please send me a message on Slack if there are any questions and happy coding! :-)\n",
        "\n",
        "Cheers,\n",
        "Pascal Wiltschko."
      ]
    },
    {
      "cell_type": "code",
      "metadata": {
        "id": "kNJX7UYfD38m",
        "colab_type": "code",
        "colab": {}
      },
      "source": [
        ""
      ],
      "execution_count": null,
      "outputs": []
    }
  ]
}