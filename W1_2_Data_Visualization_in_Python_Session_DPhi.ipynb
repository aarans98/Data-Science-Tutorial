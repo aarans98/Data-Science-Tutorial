{
  "nbformat": 4,
  "nbformat_minor": 0,
  "metadata": {
    "colab": {
      "name": "W1.2-Data_Visualization_in_Python_Session_DPhi.ipynb",
      "provenance": [],
      "collapsed_sections": [],
      "toc_visible": true
    },
    "kernelspec": {
      "display_name": "Python 3",
      "language": "python",
      "name": "python3"
    },
    "language_info": {
      "codemirror_mode": {
        "name": "ipython",
        "version": 3
      },
      "file_extension": ".py",
      "mimetype": "text/x-python",
      "name": "python",
      "nbconvert_exporter": "python",
      "pygments_lexer": "ipython3",
      "version": "3.7.5"
    },
    "varInspector": {
      "cols": {
        "lenName": 16,
        "lenType": 16,
        "lenVar": 40
      },
      "kernels_config": {
        "python": {
          "delete_cmd_postfix": "",
          "delete_cmd_prefix": "del ",
          "library": "var_list.py",
          "varRefreshCmd": "print(var_dic_list())"
        },
        "r": {
          "delete_cmd_postfix": ") ",
          "delete_cmd_prefix": "rm(",
          "library": "var_list.r",
          "varRefreshCmd": "cat(var_dic_list()) "
        }
      },
      "types_to_exclude": [
        "module",
        "function",
        "builtin_function_or_method",
        "instance",
        "_Feature"
      ],
      "window_display": false
    }
  },
  "cells": [
    {
      "cell_type": "markdown",
      "metadata": {
        "id": "p4_ntQJgg4sx",
        "colab_type": "text"
      },
      "source": [
        "# Week 1 - Topic 2\n",
        "**Authors:** Gunnika Batra **|** Julián Darío Miranda **|** Manish Kumar Chaudhary\n",
        "# Data Visualization in Python with `Matplotlib` and `Seaborn`\n"
      ]
    },
    {
      "cell_type": "markdown",
      "metadata": {
        "id": "AeQD8rSMg4s0",
        "colab_type": "text"
      },
      "source": [
        "**Data visualization** is the process of searching, interpreting, contrasting and comparing data that allows in-depth and detailed knowledge of the data in such a way that they become comprehensible information. There are several packages in Python for data visualization, among which are: \n",
        "- `Matplotlib`: It is the most used library for plotting in the Python community, despite having more than a decade of development. Because matplotlib was the first Python data visualization library, many other libraries are built on top of it. Some libraries like `pandas` and `Seaborn` are wrappers over `matplotlib`.\n",
        "- `Seaborn`: leverages matplotlib's ability to create aesthetic graphics in a few lines of code. The most palpable difference is Seaborn's default styles and color palettes, which are designed to be more aesthetically pleasing and modern.\n",
        "- `Pandas` plotting: allows data visualization through adaptations of the `matplotlib` library, facilitating the data aggregation and manipulation in a few lines of code.\n",
        "- `Plotly`: allows the data viusalization by interactive plots, offering additional chart configurations as contour plots, dendograms, and 3D charts.\n",
        "- `ggplot`: is based on *ggplot2* from R plotting system. `ggplot` operates differently than `matplotlib` and `seaborn`, making layers fromo its components to create a complete plot.\n",
        "- `Bokeh`: creates interactive, web-ready plots, which can be easily output as JSON objects, HTML documents, or interactive web applications, supporting streaming and real-time data.\n",
        "- `AstroPy`: is a collection of software packages written in the Python, and designed for use in astronomy.\n",
        "- `Gleam`: is inspired by R's Shiny package. It allows to turn analysis into interactive web applications using only Python scripts, avoiding the use of other languages like HTML, CSS, or JavaScript.\n",
        "- `Geoplotlib`: is a toolbox for creating maps and plotting geographical data by creating a variety of map-types, like choropleths, heatmaps, and dot density maps.\n",
        "- `Missingno`: allows to quickly gauge the completeness of a dataset with a visual summary, instead of trudging through a table.\n",
        "\n",
        "In this notebook we will be reviewing the data visualization process through `matplotlib` and `seaborn` packages, which are considerably malleable and very flexible, allowing a better understanding of the behavior of the plotted variables."
      ]
    },
    {
      "cell_type": "markdown",
      "metadata": {
        "colab_type": "text",
        "id": "-nNd8rj0qAy9"
      },
      "source": [
        "## 1. Matplotlib"
      ]
    },
    {
      "cell_type": "markdown",
      "metadata": {
        "colab_type": "text",
        "id": "y9oVEn3eXM-0"
      },
      "source": [
        "`Matplotlib` is a comprehensive library for creating static, animated, and interactive visualizations in Python. It is useful for those working with `Python` and `NumPy`. \n",
        "\n",
        "The most used module of `Matplotib` is `Pyplot` which provides an interface like MATLAB but instead, it uses Python and it is open source."
      ]
    },
    {
      "cell_type": "markdown",
      "metadata": {
        "colab_type": "text",
        "id": "pz64R3YqqAy_"
      },
      "source": [
        "`matplotlib.pyplot` is a collection of command style functions that make `matplotlib` work like MATLAB. \n",
        "\n",
        "Each `pyplot` function makes some change to a figure: e.g., creates a figure, creates a plotting area in a figure, plots some lines in a plotting area, decorates the plot with labels, etc."
      ]
    },
    {
      "cell_type": "markdown",
      "metadata": {
        "colab_type": "text",
        "id": "8G97dUdAqAzA"
      },
      "source": [
        "`Matplotlib`’s charts are made up of two main components:\n",
        "1. **The axes:** the lines that delimit the area of the chart\n",
        "2. **The figure:** where we draw the axes, titles and elements that come out of the area of the axes."
      ]
    },
    {
      "cell_type": "markdown",
      "metadata": {
        "id": "keAIJ_Ikg4tE",
        "colab_type": "text"
      },
      "source": [
        "The general location of the elements in a `matplotlib` figure is as follows:"
      ]
    },
    {
      "cell_type": "markdown",
      "metadata": {
        "id": "6R482Odxg4tG",
        "colab_type": "text"
      },
      "source": [
        "![Python_PlotFigure.png](https://www.ntu.edu.sg/home/ehchua/programming/webprogramming/images/Python_PlotFigure.png)\n",
        "<div style=\"font-size: 12px\", align=\"center\">\n",
        "    Figure 1. General location of elements in a Matplotlib chart. \n",
        "</div >"
      ]
    },
    {
      "cell_type": "markdown",
      "metadata": {
        "id": "TYKdumlVg4tH",
        "colab_type": "text"
      },
      "source": [
        "In the following sections we will review how to graph with `matplotlib`"
      ]
    },
    {
      "cell_type": "markdown",
      "metadata": {
        "colab_type": "text",
        "id": "SdG79euNqAzB"
      },
      "source": [
        "### 1.1. Installing `matplotlib`"
      ]
    },
    {
      "cell_type": "markdown",
      "metadata": {
        "colab_type": "text",
        "id": "g8-E6HkAqAzD"
      },
      "source": [
        "Before Matplotlib's plotting functions can be used, `Matplotlib` needs to be installed. The Anaconda distribution of Python as well as Google Colab come with Matplotlib pre-installed and no further installation steps are necessary.\n",
        "\n",
        "However, if you're not using any of those, you can install it by running a simple `pip` command in your terminal:\n",
        "\n",
        "```pip install matplotlib```"
      ]
    },
    {
      "cell_type": "markdown",
      "metadata": {
        "colab_type": "text",
        "id": "c-Wt7o9Mg4tL"
      },
      "source": [
        "### 1.2. Importing packages"
      ]
    },
    {
      "cell_type": "markdown",
      "metadata": {
        "colab_type": "text",
        "id": "Kfz4x2wRg4tN"
      },
      "source": [
        "Just as we use the `np` shorthand for `NumPy` and the `pd` shorthand for `Pandas`, we will use the standard shorthand `plt` for the Matplotlib imports:"
      ]
    },
    {
      "cell_type": "code",
      "metadata": {
        "colab_type": "code",
        "id": "PThTQwUaXM-1",
        "colab": {}
      },
      "source": [
        "import matplotlib.pyplot as plt\n",
        "import numpy as np\n",
        "import pandas as pd"
      ],
      "execution_count": 0,
      "outputs": []
    },
    {
      "cell_type": "markdown",
      "metadata": {
        "id": "FPp6azNrBr_o",
        "colab_type": "text"
      },
      "source": [
        "### 1.3. Uploading Dataset\n",
        "\n",
        "Download the CSV file of the dataset from https://docs.google.com/spreadsheets/d/1rruRHMCALDpWSSzKIHTl9Yello4y-xsWaIL1V8b9dwU/edit#gid=0"
      ]
    },
    {
      "cell_type": "code",
      "metadata": {
        "id": "xdmhi-EwDCa5",
        "colab_type": "code",
        "outputId": "bdba2a0d-85a2-4276-b16f-502c64720354",
        "colab": {
          "resources": {
            "http://localhost:8080/nbextensions/google.colab/files.js": {
              "data": "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",
              "ok": true,
              "headers": [
                [
                  "content-type",
                  "application/javascript"
                ]
              ],
              "status": 200,
              "status_text": ""
            }
          },
          "base_uri": "https://localhost:8080/",
          "height": 74
        }
      },
      "source": [
        "# Only for Google Colab users\n",
        "from google.colab import files\n",
        "uploaded = files.upload()"
      ],
      "execution_count": 0,
      "outputs": [
        {
          "output_type": "display_data",
          "data": {
            "text/html": [
              "\n",
              "     <input type=\"file\" id=\"files-4f9b46d7-63a6-40f2-854e-067a06606002\" name=\"files[]\" multiple disabled />\n",
              "     <output id=\"result-4f9b46d7-63a6-40f2-854e-067a06606002\">\n",
              "      Upload widget is only available when the cell has been executed in the\n",
              "      current browser session. Please rerun this cell to enable.\n",
              "      </output>\n",
              "      <script src=\"/nbextensions/google.colab/files.js\"></script> "
            ],
            "text/plain": [
              "<IPython.core.display.HTML object>"
            ]
          },
          "metadata": {
            "tags": []
          }
        },
        {
          "output_type": "stream",
          "text": [
            "Saving Standard Metropolitan Areas Data - train_data - data.csv to Standard Metropolitan Areas Data - train_data - data.csv\n"
          ],
          "name": "stdout"
        }
      ]
    },
    {
      "cell_type": "code",
      "metadata": {
        "id": "wjqKN43AHWCx",
        "colab_type": "code",
        "colab": {}
      },
      "source": [
        "x = pd.read_csv(\"Standard Metropolitan Areas Data - train_data - data.csv\") #let's load a dataset"
      ],
      "execution_count": 0,
      "outputs": []
    },
    {
      "cell_type": "code",
      "metadata": {
        "id": "uxBgn_aWHvds",
        "colab_type": "code",
        "outputId": "eabb3983-682b-499e-b002-435e4071a9a1",
        "colab": {
          "base_uri": "https://localhost:8080/",
          "height": 195
        }
      },
      "source": [
        "x.head() #check what all variables/fields are there in the dataset"
      ],
      "execution_count": 0,
      "outputs": [
        {
          "output_type": "execute_result",
          "data": {
            "text/html": [
              "<div>\n",
              "<style scoped>\n",
              "    .dataframe tbody tr th:only-of-type {\n",
              "        vertical-align: middle;\n",
              "    }\n",
              "\n",
              "    .dataframe tbody tr th {\n",
              "        vertical-align: top;\n",
              "    }\n",
              "\n",
              "    .dataframe thead th {\n",
              "        text-align: right;\n",
              "    }\n",
              "</style>\n",
              "<table border=\"1\" class=\"dataframe\">\n",
              "  <thead>\n",
              "    <tr style=\"text-align: right;\">\n",
              "      <th></th>\n",
              "      <th>land_area</th>\n",
              "      <th>percent_city</th>\n",
              "      <th>percent_senior</th>\n",
              "      <th>physicians</th>\n",
              "      <th>hospital_beds</th>\n",
              "      <th>graduates</th>\n",
              "      <th>work_force</th>\n",
              "      <th>income</th>\n",
              "      <th>region</th>\n",
              "      <th>crime_rate</th>\n",
              "    </tr>\n",
              "  </thead>\n",
              "  <tbody>\n",
              "    <tr>\n",
              "      <th>0</th>\n",
              "      <td>1384</td>\n",
              "      <td>78.1</td>\n",
              "      <td>12.3</td>\n",
              "      <td>25627</td>\n",
              "      <td>69678</td>\n",
              "      <td>50.1</td>\n",
              "      <td>4083.9</td>\n",
              "      <td>72100</td>\n",
              "      <td>1</td>\n",
              "      <td>75.55</td>\n",
              "    </tr>\n",
              "    <tr>\n",
              "      <th>1</th>\n",
              "      <td>3719</td>\n",
              "      <td>43.9</td>\n",
              "      <td>9.4</td>\n",
              "      <td>13326</td>\n",
              "      <td>43292</td>\n",
              "      <td>53.9</td>\n",
              "      <td>3305.9</td>\n",
              "      <td>54542</td>\n",
              "      <td>2</td>\n",
              "      <td>56.03</td>\n",
              "    </tr>\n",
              "    <tr>\n",
              "      <th>2</th>\n",
              "      <td>3553</td>\n",
              "      <td>37.4</td>\n",
              "      <td>10.7</td>\n",
              "      <td>9724</td>\n",
              "      <td>33731</td>\n",
              "      <td>50.6</td>\n",
              "      <td>2066.3</td>\n",
              "      <td>33216</td>\n",
              "      <td>1</td>\n",
              "      <td>41.32</td>\n",
              "    </tr>\n",
              "    <tr>\n",
              "      <th>3</th>\n",
              "      <td>3916</td>\n",
              "      <td>29.9</td>\n",
              "      <td>8.8</td>\n",
              "      <td>6402</td>\n",
              "      <td>24167</td>\n",
              "      <td>52.2</td>\n",
              "      <td>1966.7</td>\n",
              "      <td>32906</td>\n",
              "      <td>2</td>\n",
              "      <td>67.38</td>\n",
              "    </tr>\n",
              "    <tr>\n",
              "      <th>4</th>\n",
              "      <td>2480</td>\n",
              "      <td>31.5</td>\n",
              "      <td>10.5</td>\n",
              "      <td>8502</td>\n",
              "      <td>16751</td>\n",
              "      <td>66.1</td>\n",
              "      <td>1514.5</td>\n",
              "      <td>26573</td>\n",
              "      <td>4</td>\n",
              "      <td>80.19</td>\n",
              "    </tr>\n",
              "  </tbody>\n",
              "</table>\n",
              "</div>"
            ],
            "text/plain": [
              "   land_area  percent_city  percent_senior  ...  income  region  crime_rate\n",
              "0       1384          78.1            12.3  ...   72100       1       75.55\n",
              "1       3719          43.9             9.4  ...   54542       2       56.03\n",
              "2       3553          37.4            10.7  ...   33216       1       41.32\n",
              "3       3916          29.9             8.8  ...   32906       2       67.38\n",
              "4       2480          31.5            10.5  ...   26573       4       80.19\n",
              "\n",
              "[5 rows x 10 columns]"
            ]
          },
          "metadata": {
            "tags": []
          },
          "execution_count": 29
        }
      ]
    },
    {
      "cell_type": "markdown",
      "metadata": {
        "id": "5f5Tz7Neg4td",
        "colab_type": "text"
      },
      "source": [
        "Time to plot some graphs now!"
      ]
    },
    {
      "cell_type": "markdown",
      "metadata": {
        "colab_type": "text",
        "id": "lZcL-6qcqAzP"
      },
      "source": [
        "### 1.4. Scatter Plot using `Matplotlib`"
      ]
    },
    {
      "cell_type": "markdown",
      "metadata": {
        "id": "3O2IawZ0g4th",
        "colab_type": "text"
      },
      "source": [
        "- A scatter plot (aka scatter chart, scatter graph) uses dots to represent values for two different numeric variables. \n",
        "- The position of each dot on the horizontal and vertical axis indicates values for an individual data point. \n",
        "- Scatter plots are used to observe relationships between variables.\n",
        "\n",
        "To create a scatter plot in `Matplotlib` we can use the `.scatter()` method:"
      ]
    },
    {
      "cell_type": "code",
      "metadata": {
        "colab_type": "code",
        "id": "ahTQVqAMXM-6",
        "outputId": "87ebd42c-e3a8-4fdb-a4bd-42206b42f536",
        "colab": {
          "base_uri": "https://localhost:8080/",
          "height": 267
        }
      },
      "source": [
        "plt.scatter(x.crime_rate, x.percent_senior) # Plotting the scatter plot\n",
        "# Here we are creating a scatter plot between crime rate and percent senior variables\n",
        "plt.show() # Showing the figure"
      ],
      "execution_count": 0,
      "outputs": [
        {
          "output_type": "display_data",
          "data": {
            "image/png": "[encoded data removed]",
            "text/plain": [
              "<Figure size 432x288 with 1 Axes>"
            ]
          },
          "metadata": {
            "tags": [],
            "needs_background": "light"
          }
        }
      ]
    },
    {
      "cell_type": "markdown",
      "metadata": {
        "id": "gtgMNckkg4ts",
        "colab_type": "text"
      },
      "source": [
        "Both structures that store the values `x.crime_rate` and `x.percent_senior` must have the same size, so that the bijective relationship is maintained between each point of the independent variable $x$ with its corresponding one in the dependent variable $y$."
      ]
    },
    {
      "cell_type": "markdown",
      "metadata": {
        "id": "7U1FgTT5754b",
        "colab_type": "text"
      },
      "source": [
        "### Applications of Scatter Plot:\n",
        "\n",
        "A scatter plot can also be useful for identifying other patterns in data. \n",
        "- We can divide data points into groups based on how closely sets of points cluster together. \n",
        "- Scatter plots can also show if there are any unexpected gaps in the data and if there are any outlier points.(Look at the 2 points away from rest of the data in the scatter plot. Those are outliers.)\n",
        "\n",
        "This can be useful if we want to segment the data into different parts, like categorising users into different groups."
      ]
    },
    {
      "cell_type": "markdown",
      "metadata": {
        "colab_type": "text",
        "id": "SUYmrKoiqAza"
      },
      "source": [
        "#### Is `plt.show()` always required?\n",
        "\n",
        "1. If `Matplotlib` is used in a terminal, scripts or specialized IDEs as Spyder, Pycharm or VS Code, `plt.show()` is a must.\n",
        "\n",
        "2. If `Matplotlib` is used in a IPython shell or a notebook as Jupyter Notebook or Colab Notebook, `plt.show()` is usually unnecessary.\n",
        "\n",
        "In the following cell we are executing the same script as above, removing the `plt.show()` instruction:"
      ]
    },
    {
      "cell_type": "code",
      "metadata": {
        "colab_type": "code",
        "id": "efUb9WoAqAzb",
        "outputId": "1cb1fe1e-bf0a-458d-f4f8-4e2bd4b59030",
        "colab": {
          "base_uri": "https://localhost:8080/",
          "height": 284
        }
      },
      "source": [
        "# The same code block without plt.show() gives the same result in Jupyter Notebook\n",
        "plt.scatter(x.crime_rate, x.percent_senior)"
      ],
      "execution_count": 0,
      "outputs": [
        {
          "output_type": "execute_result",
          "data": {
            "text/plain": [
              "<matplotlib.collections.PathCollection at 0x7f8dff174208>"
            ]
          },
          "metadata": {
            "tags": []
          },
          "execution_count": 31
        },
        {
          "output_type": "display_data",
          "data": {
            "image/png": "[encoded data removed]",
            "text/plain": [
              "<Figure size 432x288 with 1 Axes>"
            ]
          },
          "metadata": {
            "tags": [],
            "needs_background": "light"
          }
        }
      ]
    },
    {
      "cell_type": "markdown",
      "metadata": {
        "id": "12ffKYHdg4t7",
        "colab_type": "text"
      },
      "source": [
        "The only difference is the inclusion of the figure output object:\n",
        "```\n",
        "<matplotlib.collections.PathCollection at 0x7f835e24d978>\n",
        "``` \n",
        "If you want to prevent this from being included as a cell output, use `plt.show()` at the end of each plotting instruction."
      ]
    },
    {
      "cell_type": "markdown",
      "metadata": {
        "id": "f2Or7pbSg4t8",
        "colab_type": "text"
      },
      "source": [
        "The `plt.show()` command does a lot under the hood, as it must interact with your system's interactive graphical backend. The details of this operation can vary greatly from system to system and even installation to installation, but matplotlib does its best to hide all these details from you. "
      ]
    },
    {
      "cell_type": "markdown",
      "metadata": {
        "colab_type": "text",
        "id": "J5lJlZl_qAz0"
      },
      "source": [
        "#### Adding titles and labels"
      ]
    },
    {
      "cell_type": "markdown",
      "metadata": {
        "id": "QyGTsZzQg4uh",
        "colab_type": "text"
      },
      "source": [
        "Visualizing the data through plotting for better interpretation is an indispensable practice. However, the graphics must express the full story. To express this story, it is necessary to add labels that indicate what is being plotted, where and what it represents. We do this by including data labels, axis labels, and titles."
      ]
    },
    {
      "cell_type": "code",
      "metadata": {
        "colab_type": "code",
        "id": "MMlMW_8fXM_A",
        "outputId": "1d9aa495-f31c-49df-a9c9-e4c9dbd2c110",
        "colab": {
          "base_uri": "https://localhost:8080/",
          "height": 295
        }
      },
      "source": [
        "plt.scatter(x.percent_senior, x.crime_rate)\n",
        "\n",
        "plt.title('Plot of Crime Rate vs Percent Senior') # Adding a title to the plot\n",
        "plt.xlabel(\"Percent Senior\") # Adding the label for the horizontal axis\n",
        "plt.ylabel(\"Crime Rate\") # Adding the label for the vertical axis\n",
        "plt.show()"
      ],
      "execution_count": 0,
      "outputs": [
        {
          "output_type": "display_data",
          "data": {
            "image/png": "[encoded data removed]",
            "text/plain": [
              "<Figure size 432x288 with 1 Axes>"
            ]
          },
          "metadata": {
            "tags": [],
            "needs_background": "light"
          }
        }
      ]
    },
    {
      "cell_type": "markdown",
      "metadata": {
        "colab_type": "text",
        "id": "1LhHzcIuqAzh"
      },
      "source": [
        "### 1.5. Line Chart using `Matplotlib`"
      ]
    },
    {
      "cell_type": "markdown",
      "metadata": {
        "id": "uGWZ1Yv9g4uF",
        "colab_type": "text"
      },
      "source": [
        "A line chart is used to represent data over a continuous time span. It is generally used to show trend of a measure (or a variable) over time. Data values are plotted as points that are connected using line segments.\n",
        "\n",
        "In Matplotlib we can create a line chart by calling the plot method.\n",
        "\n",
        "plot() is a versatile command, and will take an arbitrary number of arguments."
      ]
    },
    {
      "cell_type": "markdown",
      "metadata": {
        "id": "4V5gdKN5g4uH",
        "colab_type": "text"
      },
      "source": [
        "### Applications of Line Chart:\n",
        "\n",
        "Using a line chart one can see the pattern of any dependent variable over time like share price, weather recordings (like temperature, precipitation or humidity), etc. Let's look at an example of the graphical representation of Netflix Paid Subscriber Count growth from 2012 to 2018:\n",
        "\n",
        "![Netflix Subscriber Count 2012-2014](https://www.marketingcharts.com/wp-content/uploads/2019/01/Netflix-Paid-Streaming-Subscriber-Count-Q12012-Q42018-Jan2019.png)\n",
        "<div style=\"font-size: 12px\", align=\"center\">\n",
        "    Figure 2. Netflix Subscriber Count from 2012 to 2014\n",
        "</div >"
      ]
    },
    {
      "cell_type": "markdown",
      "metadata": {
        "colab_type": "text",
        "id": "g4un8SFNqAzi"
      },
      "source": [
        "In `Matplotlib` we can create a line chart by calling the native `.plot()` method, which is a versatile command, and will take an arbitrary number of arguments:"
      ]
    },
    {
      "cell_type": "code",
      "metadata": {
        "colab_type": "code",
        "id": "KAQO5fETXM-9",
        "outputId": "0096e004-2e44-4fb1-9aef-8224bbca201f",
        "colab": {
          "base_uri": "https://localhost:8080/",
          "height": 279
        }
      },
      "source": [
        "plt.plot(x.work_force, x.income) # 2 arguments: X and Y points\n",
        "plt.xlabel(\"Work Force\") # Adding the label for the horizontal axis\n",
        "plt.ylabel(\"Income\")\n",
        "plt.show()"
      ],
      "execution_count": 0,
      "outputs": [
        {
          "output_type": "display_data",
          "data": {
            "image/png": "[encoded data removed]",
            "text/plain": [
              "<Figure size 432x288 with 1 Axes>"
            ]
          },
          "metadata": {
            "tags": [],
            "needs_background": "light"
          }
        }
      ]
    },
    {
      "cell_type": "markdown",
      "metadata": {
        "id": "YgH_As-dg4uT",
        "colab_type": "text"
      },
      "source": [
        "Because it is a line chart, `matplotlib` automatically draws a line to connect each pair of consecutive points that represent Cartesian coordinates on the graph. We can also make a graph with a single input argument:"
      ]
    },
    {
      "cell_type": "code",
      "metadata": {
        "colab_type": "code",
        "id": "BT8zlIiHqAzq",
        "outputId": "f2a3b818-2f2b-43b4-f4d6-fac3f9f6e73f",
        "colab": {
          "base_uri": "https://localhost:8080/",
          "height": 265
        }
      },
      "source": [
        "plt.plot([1, 2, 3, 4]) # 1 argument\n",
        "plt.show()"
      ],
      "execution_count": 0,
      "outputs": [
        {
          "output_type": "display_data",
          "data": {
            "image/png": "[encoded data removed]",
            "text/plain": [
              "<Figure size 432x288 with 1 Axes>"
            ]
          },
          "metadata": {
            "tags": [],
            "needs_background": "light"
          }
        }
      ]
    },
    {
      "cell_type": "markdown",
      "metadata": {
        "colab_type": "text",
        "id": "DH8hXrxJqAzz"
      },
      "source": [
        "You may be wondering why the x-axis ranges from 0-3 and the y-axis from 1-4. If you provide a single list or array of $n$ elements to the `.plot()` function, `matplotlib` will assume it is a sequence of $y$ values, and **automatically generates the $x$ values for you** as a range of $n$ elements starting from 0. Since python ranges start with 0, the default $x$ vector has the same length as $y$. Hence the $x$ data will be [0,1,2,3]."
      ]
    },
    {
      "cell_type": "markdown",
      "metadata": {
        "colab_type": "text",
        "id": "m-bZ8MgaqAz-"
      },
      "source": [
        "#### Changing the size of the plot"
      ]
    },
    {
      "cell_type": "markdown",
      "metadata": {
        "id": "1RFRKffSg4vK",
        "colab_type": "text"
      },
      "source": [
        "You may have noticed that there is a lot of space in the width to show the graph and `matplotlib` has shown it in a small space of our notebook. The size of the figure that contains the graph can be varied with the `figsize` argument as follows:\n",
        "\n",
        "```\n",
        "plt.figure(figsize=(new_width_pixels, new_height_pixels))\n",
        "```\n",
        "\n",
        "Let's look at this example:"
      ]
    },
    {
      "cell_type": "code",
      "metadata": {
        "colab_type": "code",
        "id": "gL-Gdu-1XM_D",
        "outputId": "8781a218-4f99-46f6-e387-ece397803364",
        "colab": {
          "base_uri": "https://localhost:8080/",
          "height": 334
        }
      },
      "source": [
        "plt.figure(figsize=(12,5)) # 12x5 plot\n",
        "\n",
        "plt.plot(x.work_force, x.income) \n",
        "plt.xlabel(\"Work Force\") \n",
        "plt.ylabel(\"Income\")\n",
        "plt.show()"
      ],
      "execution_count": 0,
      "outputs": [
        {
          "output_type": "display_data",
          "data": {
            "image/png": "[encoded data removed]",
            "text/plain": [
              "<Figure size 864x360 with 1 Axes>"
            ]
          },
          "metadata": {
            "tags": [],
            "needs_background": "light"
          }
        }
      ]
    },
    {
      "cell_type": "markdown",
      "metadata": {
        "colab_type": "text",
        "id": "IuScMzd1qA0G"
      },
      "source": [
        "#### Formatting the style of your plot"
      ]
    },
    {
      "cell_type": "markdown",
      "metadata": {
        "id": "JNK1WMuz-ZdJ",
        "colab_type": "text"
      },
      "source": [
        "Specify the keyword args linestyle and/or marker in your call to plot.\n",
        "\n",
        "For example, using a dashed line and red circle markers:"
      ]
    },
    {
      "cell_type": "code",
      "metadata": {
        "id": "1UmC3WDt-a06",
        "colab_type": "code",
        "outputId": "6156b6c5-7ceb-4cea-a616-e9c468ce1aca",
        "colab": {
          "base_uri": "https://localhost:8080/",
          "height": 279
        }
      },
      "source": [
        "plt.plot(x.work_force, x.income, linestyle='--', marker='o', color='r')\n",
        "plt.xlabel(\"Work Force\") \n",
        "plt.ylabel(\"Income\")\n",
        "plt.show()"
      ],
      "execution_count": 0,
      "outputs": [
        {
          "output_type": "display_data",
          "data": {
            "image/png": "[encoded data removed]",
            "text/plain": [
              "<Figure size 432x288 with 1 Axes>"
            ]
          },
          "metadata": {
            "tags": [],
            "needs_background": "light"
          }
        }
      ]
    },
    {
      "cell_type": "markdown",
      "metadata": {
        "colab_type": "text",
        "id": "fOqQdA_zqA0I"
      },
      "source": [
        "#### A shortcut for the above\n",
        "\n",
        "For every x, y pair of arguments, there is an optional third argument which is the format string that indicates the color and line type of the plot. The letters and symbols of the format string are from MATLAB, and you concatenate a color string with a line style string. The default format string is 'b-', which is a solid blue line. "
      ]
    },
    {
      "cell_type": "code",
      "metadata": {
        "colab_type": "code",
        "id": "yYzjma83qA0K",
        "outputId": "82647abe-6023-4a97-80ac-069a502cd70c",
        "colab": {
          "base_uri": "https://localhost:8080/",
          "height": 279
        }
      },
      "source": [
        "plt.plot(x.work_force, x.income, '--ro')  # ro = red circles\n",
        "plt.xlabel(\"Work Force\") \n",
        "plt.ylabel(\"Income\")\n",
        "plt.show()"
      ],
      "execution_count": 0,
      "outputs": [
        {
          "output_type": "display_data",
          "data": {
            "image/png": "[encoded data removed]",
            "text/plain": [
              "<Figure size 432x288 with 1 Axes>"
            ]
          },
          "metadata": {
            "tags": [],
            "needs_background": "light"
          }
        }
      ]
    },
    {
      "cell_type": "markdown",
      "metadata": {
        "id": "FsP3I73R-l-Q",
        "colab_type": "text"
      },
      "source": [
        "It turns out that the plot function can produce scatter plots as well"
      ]
    },
    {
      "cell_type": "code",
      "metadata": {
        "id": "M1r5ccrb-nuk",
        "colab_type": "code",
        "outputId": "2f959e82-cc7e-4907-a88c-cee7f68440dd",
        "colab": {
          "base_uri": "https://localhost:8080/",
          "height": 265
        }
      },
      "source": [
        "plt.plot(x.work_force, x.income, 'ro') # ro = red circles\n",
        "plt.show()"
      ],
      "execution_count": 0,
      "outputs": [
        {
          "output_type": "display_data",
          "data": {
            "image/png": "[encoded data removed]",
            "text/plain": [
              "<Figure size 432x288 with 1 Axes>"
            ]
          },
          "metadata": {
            "tags": [],
            "needs_background": "light"
          }
        }
      ]
    },
    {
      "cell_type": "code",
      "metadata": {
        "colab_type": "code",
        "id": "mtgTK-THXM_G",
        "outputId": "0575a1fd-aaad-4654-c8ca-863543f07f0f",
        "colab": {
          "base_uri": "https://localhost:8080/",
          "height": 265
        }
      },
      "source": [
        "plt.plot(x.work_force, x.income, \"gx\") # gx = green x\n",
        "plt.show()"
      ],
      "execution_count": 0,
      "outputs": [
        {
          "output_type": "display_data",
          "data": {
            "image/png": "[encoded data removed]",
            "text/plain": [
              "<Figure size 432x288 with 1 Axes>"
            ]
          },
          "metadata": {
            "tags": [],
            "needs_background": "light"
          }
        }
      ]
    },
    {
      "cell_type": "markdown",
      "metadata": {
        "id": "agini_RYg4vr",
        "colab_type": "text"
      },
      "source": [
        "There are plenty of other options. You can try the following:\n",
        "\n",
        "```\n",
        "plt.plot(x.work_force, x.income, \"go\") # green circles\n",
        "plt.plot(x.work_force, x.income, \"g^\") # green traingles\n",
        "plt.plot(x.work_force, x.income, \"ro\") # red circles\n",
        "plt.plot(x.work_force, x.income, \"rx\") # red x symbol\n",
        "plt.plot(x.work_force, x.income, \"b^\") # red ^ symbol\n",
        "plt.plot(x.work_force, x.income, \"go--\", linewidth=3) # green circles and dashed lines of width 3.\n",
        "```"
      ]
    },
    {
      "cell_type": "markdown",
      "metadata": {
        "colab_type": "text",
        "id": "C0BqyD82qA0k"
      },
      "source": [
        "### 1.6. Plotting consecutive plots using `Matplotlib` "
      ]
    },
    {
      "cell_type": "markdown",
      "metadata": {
        "id": "5AdCy4x6g4v4",
        "colab_type": "text"
      },
      "source": [
        "Plotting data on multiple consecutive figures can be done by calling the corresponding graphing functions and displaying each figure consecutively:"
      ]
    },
    {
      "cell_type": "code",
      "metadata": {
        "id": "hBANP3F-g4u7",
        "colab_type": "code",
        "outputId": "1adadb6c-a744-4cac-9bff-f585b33961e9",
        "colab": {
          "base_uri": "https://localhost:8080/",
          "height": 513
        }
      },
      "source": [
        "plt.plot(x.work_force, x.income, color=\"r\") \n",
        "plt.show()\n",
        "plt.plot(x.physicians, x.income) \n",
        "plt.show()"
      ],
      "execution_count": 0,
      "outputs": [
        {
          "output_type": "display_data",
          "data": {
            "image/png": "[encoded data removed]",
            "text/plain": [
              "<Figure size 432x288 with 1 Axes>"
            ]
          },
          "metadata": {
            "tags": [],
            "needs_background": "light"
          }
        },
        {
          "output_type": "display_data",
          "data": {
            "image/png": "[encoded data removed]",
            "text/plain": [
              "<Figure size 432x288 with 1 Axes>"
            ]
          },
          "metadata": {
            "tags": [],
            "needs_background": "light"
          }
        }
      ]
    },
    {
      "cell_type": "markdown",
      "metadata": {
        "colab_type": "text",
        "id": "yzhF5miAqA02"
      },
      "source": [
        "What happens if you don't use `plt.show()` after the first figure? Both variables will be plotted in the same figure:"
      ]
    },
    {
      "cell_type": "markdown",
      "metadata": {
        "id": "KWBAtkc6g4u4",
        "colab_type": "text"
      },
      "source": [
        "#### Adding a Legend\n",
        "\n",
        "A legend is an area describing the elements of the graph. In the `matplotlib` library, there’s a function called `.legend()` which is used to place a legend on the axes, as follows:"
      ]
    },
    {
      "cell_type": "code",
      "metadata": {
        "colab_type": "code",
        "id": "Pdx3kDiXXM_N",
        "outputId": "6fdcb1e8-2741-44a9-8202-d955b2cc0c45",
        "colab": {
          "base_uri": "https://localhost:8080/",
          "height": 265
        }
      },
      "source": [
        "#Instead of creating a separate image for points2, it displays both the plots in the same figure \n",
        "# (both share the same axes)\n",
        "plt.plot(x.work_force, x.income, color=\"r\", label = 'labor') \n",
        "plt.plot(x.physicians, x.income, label='graduates') \n",
        "\n",
        "# Adding a legend\n",
        "plt.legend()\n",
        "\n",
        "plt.show()"
      ],
      "execution_count": 0,
      "outputs": [
        {
          "output_type": "display_data",
          "data": {
            "image/png": "[encoded data removed]",
            "text/plain": [
              "<Figure size 432x288 with 1 Axes>"
            ]
          },
          "metadata": {
            "tags": [],
            "needs_background": "light"
          }
        }
      ]
    },
    {
      "cell_type": "markdown",
      "metadata": {
        "colab_type": "text",
        "id": "fGfDhL0QXM_Q"
      },
      "source": [
        "### 1.7. Multiple plots in one figure using `Matplotlib`\n",
        "We can make multiple graphics in one figure. This goes very well for comparing charts or for sharing data from several types of charts easily with a single image.\n",
        "\n",
        "The `.subplot()` method is used to add multiple plots in one figure. It takes three arguments: \n",
        "1. `nrows`: number of rows in the figure\n",
        "2. `ncols`: number of columns in the figure\n",
        "3. `index`: index of the plot\n",
        "\n",
        "Let's see how variables are plotted with different row and column configurations in the figures."
      ]
    },
    {
      "cell_type": "markdown",
      "metadata": {
        "colab_type": "text",
        "id": "fz29wWQnqA0_"
      },
      "source": [
        "#### 1 row and 2 columns"
      ]
    },
    {
      "cell_type": "code",
      "metadata": {
        "colab_type": "code",
        "id": "7NUKqHsIXM_R",
        "outputId": "5f05f944-253c-4607-936e-3193cc6f4a7f",
        "colab": {
          "base_uri": "https://localhost:8080/",
          "height": 294
        }
      },
      "source": [
        "plt.subplot(1,2,1)  # row, column, index\n",
        "plt.plot(x.work_force, x.income, \"go\")\n",
        "plt.title(\"Income vs Work Force\")\n",
        "\n",
        "plt.subplot(1,2,2) # row, column, index\n",
        "plt.plot(x.hospital_beds, x.income, \"r^\")\n",
        "plt.title(\"Income vs Hospital Beds\")\n",
        "\n",
        "plt.suptitle(\"Sub Plots\") # Add a centered title to the figure.\n",
        "plt.show()"
      ],
      "execution_count": 0,
      "outputs": [
        {
          "output_type": "display_data",
          "data": {
            "image/png": "[encoded data removed]",
            "text/plain": [
              "<Figure size 432x288 with 2 Axes>"
            ]
          },
          "metadata": {
            "tags": [],
            "needs_background": "light"
          }
        }
      ]
    },
    {
      "cell_type": "markdown",
      "metadata": {
        "colab_type": "text",
        "id": "kZu8F9LYqA1H"
      },
      "source": [
        "#### 2 rows and 1 column"
      ]
    },
    {
      "cell_type": "code",
      "metadata": {
        "colab_type": "code",
        "id": "u62bOx6sXM_T",
        "outputId": "a7b7dbce-a6a9-4c29-f210-1e0851a87643",
        "colab": {
          "base_uri": "https://localhost:8080/",
          "height": 294
        }
      },
      "source": [
        "plt.subplot(2,1,1) # row, column, index\n",
        "plt.plot(x.work_force, x.income, \"go\")\n",
        "\n",
        "plt.subplot(2,1,2) # row, column, index\n",
        "plt.plot(x.hospital_beds, x.income, \"r^\")\n",
        "\n",
        "plt.suptitle(\"Sub Plots\")\n",
        "plt.show()"
      ],
      "execution_count": 0,
      "outputs": [
        {
          "output_type": "display_data",
          "data": {
            "image/png": "[encoded data removed]",
            "text/plain": [
              "<Figure size 432x288 with 2 Axes>"
            ]
          },
          "metadata": {
            "tags": [],
            "needs_background": "light"
          }
        }
      ]
    },
    {
      "cell_type": "markdown",
      "metadata": {
        "colab_type": "text",
        "id": "0f5HvLsHqA1U"
      },
      "source": [
        "#### 2 rows and 2 columns"
      ]
    },
    {
      "cell_type": "code",
      "metadata": {
        "colab_type": "code",
        "id": "bvLq_xMHXM_W",
        "outputId": "53174618-66ac-4000-a0b3-c02b2757002d",
        "colab": {
          "base_uri": "https://localhost:8080/",
          "height": 374
        }
      },
      "source": [
        "fig, ax = plt.subplots(nrows=2, ncols=2, figsize=(6,6)) #creating a grid of 2 rows, 2 columns and 6x6 figure size\n",
        "ax[0,0].plot(x.work_force, x.income, \"go\") # The top-left axes\n",
        "ax[0,1].plot(x.work_force, x.income, \"bo\") # The top-right axes\n",
        "ax[1,0].plot(x.work_force, x.income, \"yo\") # The bottom-left axes\n",
        "ax[1,1].plot(x.work_force, x.income, \"ro\") # The bottom-right axes\n",
        "\n",
        "plt.show()"
      ],
      "execution_count": 0,
      "outputs": [
        {
          "output_type": "display_data",
          "data": {
            "image/png": "[encoded data removed]",
            "text/plain": [
              "<Figure size 432x432 with 4 Axes>"
            ]
          },
          "metadata": {
            "tags": [],
            "needs_background": "light"
          }
        }
      ]
    },
    {
      "cell_type": "markdown",
      "metadata": {
        "id": "pU1pVFoJg4wj",
        "colab_type": "text"
      },
      "source": [
        "As you have been able to detail, with the function `.subplots (nrows, ncols)` you can generalize the plotting in multiple locations of the figure."
      ]
    },
    {
      "cell_type": "markdown",
      "metadata": {
        "colab_type": "text",
        "id": "lR9-zdiFXM_m"
      },
      "source": [
        "### 1.8. Histogram using `Matplotlib`\n",
        "\n",
        "Matplotlib can be used to create histograms using the hist() method. A histogram shows the frequency on the vertical axis and the horizontal axis is another dimension. Usually it has bins, where every bin has a minimum and maximum value. Each bin also has a frequency between x and infinite\n",
        "\n",
        "Histograms are a very common type of plots when we are looking at data like height and weight, stock prices, waiting time for a customer, etc which are continuous in nature. \n",
        "\n",
        "Parameters:\n",
        "- x(n,) : this takes either a single array or a sequence of arrays which are not required to be of the same length.\n",
        "- bins : If bins is an integer, it defines the number of equal-width bins in the range.\n",
        "\n",
        "    If bins is a sequence, it defines the bin edges, including the left edge of the first bin and the right edge \n",
        "    of the last bin; in this case, bins may be unequally spaced. All but the last (righthand-most) bin is half-\n",
        "    open. \n",
        "\n",
        "    In other words, if bins is:\n",
        "\n",
        "    [1, 2, 3, 4]\n",
        "\n",
        "    then the first bin is [1, 2) (including 1, but excluding 2) and the second [2, 3). The last bin, however, is \n",
        "    [3, 4], which includes 4.\n",
        "\n",
        "    If bins is a string, it is one of the binning strategies supported by numpy.histogram_bin_edges: 'auto', 'fd', \n",
        "    'doane', 'scott', 'stone', 'rice', 'sturges', or 'sqrt'.\n",
        "\n",
        "    The default is rcParams[\"hist.bins\"] (default: 10)."
      ]
    },
    {
      "cell_type": "code",
      "metadata": {
        "colab_type": "code",
        "id": "9rG9TOXXXM_n",
        "outputId": "89ed1bc8-86ea-40f2-a140-86910612519a",
        "colab": {
          "base_uri": "https://localhost:8080/",
          "height": 295
        }
      },
      "source": [
        "plt.title(\"Histogram\")\n",
        "plt.xlabel(\"Percentage of Senior Citizens\")\n",
        "plt.ylabel(\"Frequency\")\n",
        "\n",
        "plt.hist(x.percent_senior)\n",
        "plt.show()"
      ],
      "execution_count": 0,
      "outputs": [
        {
          "output_type": "display_data",
          "data": {
            "image/png": "[encoded data removed]",
            "text/plain": [
              "<Figure size 432x288 with 1 Axes>"
            ]
          },
          "metadata": {
            "tags": [],
            "needs_background": "light"
          }
        }
      ]
    },
    {
      "cell_type": "markdown",
      "metadata": {
        "colab_type": "text",
        "id": "TGwBnBzhXM_p"
      },
      "source": [
        "### 1.9. Additional resources\n",
        "\n",
        "https://www.datacamp.com/community/tutorials/matplotlib-tutorial-python\n",
        "\n",
        "https://appdividend.com/2019/01/26/matplotlib-tutorial-with-example-python-jupyter-notebook-course/"
      ]
    },
    {
      "cell_type": "markdown",
      "metadata": {
        "colab_type": "text",
        "id": "cruYYRKFXM_q"
      },
      "source": [
        "## 2. Seaborn\n",
        "\n",
        "`Seaborn` is a Python data visualization library based on `Matplotlib`. It provides a high-level interface for creating attractive graphs, and statistical data visualization. \n",
        "\n",
        "Seaborn has a lot to offer. You can create graphs in one line that would take you multiple tens of lines in `Matplotlib`. Its standard designs are awesome and it also has a nice interface for working with pandas dataframes.\n",
        "\n",
        "In the following sections we will review how to graph with `seaborn`"
      ]
    },
    {
      "cell_type": "markdown",
      "metadata": {
        "colab_type": "text",
        "id": "vZchNoVRqA2T"
      },
      "source": [
        "### 2.1. Importing seaborn"
      ]
    },
    {
      "cell_type": "code",
      "metadata": {
        "colab_type": "code",
        "id": "2RkOVu34qA2U",
        "outputId": "76fbcd4d-b46f-402c-8ea4-93460cf44ce9",
        "colab": {
          "base_uri": "https://localhost:8080/",
          "height": 70
        }
      },
      "source": [
        "import seaborn as sns"
      ],
      "execution_count": 0,
      "outputs": [
        {
          "output_type": "stream",
          "text": [
            "/usr/local/lib/python3.6/dist-packages/statsmodels/tools/_testing.py:19: FutureWarning: pandas.util.testing is deprecated. Use the functions in the public API at pandas.testing instead.\n",
            "  import pandas.util.testing as tm\n"
          ],
          "name": "stderr"
        }
      ]
    },
    {
      "cell_type": "markdown",
      "metadata": {
        "colab_type": "text",
        "id": "04YAWIv6qA2Z"
      },
      "source": [
        "### 2.2. Loading data with seaborn"
      ]
    },
    {
      "cell_type": "code",
      "metadata": {
        "colab_type": "code",
        "id": "2tpJk49BXM_q",
        "outputId": "0f791dd4-2485-4948-dd80-1243b43392e9",
        "colab": {
          "base_uri": "https://localhost:8080/",
          "height": 343
        }
      },
      "source": [
        "# Load iris data\n",
        "iris = sns.load_dataset(\"iris\")\n",
        "\n",
        "iris.sample(10)"
      ],
      "execution_count": 0,
      "outputs": [
        {
          "output_type": "execute_result",
          "data": {
            "text/html": [
              "<div>\n",
              "<style scoped>\n",
              "    .dataframe tbody tr th:only-of-type {\n",
              "        vertical-align: middle;\n",
              "    }\n",
              "\n",
              "    .dataframe tbody tr th {\n",
              "        vertical-align: top;\n",
              "    }\n",
              "\n",
              "    .dataframe thead th {\n",
              "        text-align: right;\n",
              "    }\n",
              "</style>\n",
              "<table border=\"1\" class=\"dataframe\">\n",
              "  <thead>\n",
              "    <tr style=\"text-align: right;\">\n",
              "      <th></th>\n",
              "      <th>sepal_length</th>\n",
              "      <th>sepal_width</th>\n",
              "      <th>petal_length</th>\n",
              "      <th>petal_width</th>\n",
              "      <th>species</th>\n",
              "    </tr>\n",
              "  </thead>\n",
              "  <tbody>\n",
              "    <tr>\n",
              "      <th>88</th>\n",
              "      <td>5.6</td>\n",
              "      <td>3.0</td>\n",
              "      <td>4.1</td>\n",
              "      <td>1.3</td>\n",
              "      <td>versicolor</td>\n",
              "    </tr>\n",
              "    <tr>\n",
              "      <th>28</th>\n",
              "      <td>5.2</td>\n",
              "      <td>3.4</td>\n",
              "      <td>1.4</td>\n",
              "      <td>0.2</td>\n",
              "      <td>setosa</td>\n",
              "    </tr>\n",
              "    <tr>\n",
              "      <th>48</th>\n",
              "      <td>5.3</td>\n",
              "      <td>3.7</td>\n",
              "      <td>1.5</td>\n",
              "      <td>0.2</td>\n",
              "      <td>setosa</td>\n",
              "    </tr>\n",
              "    <tr>\n",
              "      <th>127</th>\n",
              "      <td>6.1</td>\n",
              "      <td>3.0</td>\n",
              "      <td>4.9</td>\n",
              "      <td>1.8</td>\n",
              "      <td>virginica</td>\n",
              "    </tr>\n",
              "    <tr>\n",
              "      <th>24</th>\n",
              "      <td>4.8</td>\n",
              "      <td>3.4</td>\n",
              "      <td>1.9</td>\n",
              "      <td>0.2</td>\n",
              "      <td>setosa</td>\n",
              "    </tr>\n",
              "    <tr>\n",
              "      <th>5</th>\n",
              "      <td>5.4</td>\n",
              "      <td>3.9</td>\n",
              "      <td>1.7</td>\n",
              "      <td>0.4</td>\n",
              "      <td>setosa</td>\n",
              "    </tr>\n",
              "    <tr>\n",
              "      <th>138</th>\n",
              "      <td>6.0</td>\n",
              "      <td>3.0</td>\n",
              "      <td>4.8</td>\n",
              "      <td>1.8</td>\n",
              "      <td>virginica</td>\n",
              "    </tr>\n",
              "    <tr>\n",
              "      <th>125</th>\n",
              "      <td>7.2</td>\n",
              "      <td>3.2</td>\n",
              "      <td>6.0</td>\n",
              "      <td>1.8</td>\n",
              "      <td>virginica</td>\n",
              "    </tr>\n",
              "    <tr>\n",
              "      <th>147</th>\n",
              "      <td>6.5</td>\n",
              "      <td>3.0</td>\n",
              "      <td>5.2</td>\n",
              "      <td>2.0</td>\n",
              "      <td>virginica</td>\n",
              "    </tr>\n",
              "    <tr>\n",
              "      <th>89</th>\n",
              "      <td>5.5</td>\n",
              "      <td>2.5</td>\n",
              "      <td>4.0</td>\n",
              "      <td>1.3</td>\n",
              "      <td>versicolor</td>\n",
              "    </tr>\n",
              "  </tbody>\n",
              "</table>\n",
              "</div>"
            ],
            "text/plain": [
              "     sepal_length  sepal_width  petal_length  petal_width     species\n",
              "88            5.6          3.0           4.1          1.3  versicolor\n",
              "28            5.2          3.4           1.4          0.2      setosa\n",
              "48            5.3          3.7           1.5          0.2      setosa\n",
              "127           6.1          3.0           4.9          1.8   virginica\n",
              "24            4.8          3.4           1.9          0.2      setosa\n",
              "5             5.4          3.9           1.7          0.4      setosa\n",
              "138           6.0          3.0           4.8          1.8   virginica\n",
              "125           7.2          3.2           6.0          1.8   virginica\n",
              "147           6.5          3.0           5.2          2.0   virginica\n",
              "89            5.5          2.5           4.0          1.3  versicolor"
            ]
          },
          "metadata": {
            "tags": []
          },
          "execution_count": 47
        }
      ]
    },
    {
      "cell_type": "markdown",
      "metadata": {
        "colab_type": "text",
        "id": "DlQilpP0qA2n"
      },
      "source": [
        "### 2.3. Scatter Plot using `Seaborn`"
      ]
    },
    {
      "cell_type": "code",
      "metadata": {
        "colab_type": "code",
        "id": "lZQav-PwXM_1",
        "outputId": "e5a7b6d6-fcec-4373-e918-4ddb29a1e3ee",
        "colab": {
          "base_uri": "https://localhost:8080/",
          "height": 283
        }
      },
      "source": [
        "sns.scatterplot(x='sepal_length', y='sepal_width', data=iris)\n",
        "plt.show()"
      ],
      "execution_count": 0,
      "outputs": [
        {
          "output_type": "display_data",
          "data": {
            "image/png": "[encoded data removed]",
            "text/plain": [
              "<Figure size 432x288 with 1 Axes>"
            ]
          },
          "metadata": {
            "tags": [],
            "needs_background": "light"
          }
        }
      ]
    },
    {
      "cell_type": "markdown",
      "metadata": {
        "colab_type": "text",
        "id": "dsDMoRZlqA2j"
      },
      "source": [
        "### 2.4. Swarm Plot using `Seaborn`"
      ]
    },
    {
      "cell_type": "code",
      "metadata": {
        "colab_type": "code",
        "id": "6lvOpwZoXM_u",
        "outputId": "7b45f981-a97a-4316-a60d-c0c754f61b04",
        "colab": {
          "base_uri": "https://localhost:8080/",
          "height": 279
        }
      },
      "source": [
        "# Construct swarm plot for sepcies vs petal_length\n",
        "sns.swarmplot(x=\"species\", y=\"petal_length\", data=iris)\n",
        "\n",
        "# Show plot\n",
        "plt.show()"
      ],
      "execution_count": 0,
      "outputs": [
        {
          "output_type": "display_data",
          "data": {
            "image/png": "[encoded data removed]",
            "text/plain": [
              "<Figure size 432x288 with 1 Axes>"
            ]
          },
          "metadata": {
            "tags": [],
            "needs_background": "light"
          }
        }
      ]
    },
    {
      "cell_type": "markdown",
      "metadata": {
        "colab_type": "text",
        "id": "BvBEKDMwqA2t"
      },
      "source": [
        "### 2.5. Heatmap using `Seaborn`"
      ]
    },
    {
      "cell_type": "markdown",
      "metadata": {
        "colab_type": "text",
        "id": "oqDG_LsUqA2u"
      },
      "source": [
        "A Heatmap is a graphical representation of data where the individual values contained in a matrix are represented as colors.\n",
        "\n",
        "Seaborn heatmaps are appealing to the eyes, and they tend to send clear messages about data almost immediately. This is why this method for correlation matrix visualization ( exploring the correlation of features in a dataset) is widely used by data analysts and data scientists alike.\n",
        "\n",
        "Correlation is a measure of the strength of a linear relationship between two quantitative variables. \n",
        "(We'll study more about correlation in the upcoming week)\n",
        "\n",
        "To get the correlation of the features inside a dataset we can call <dataset>.corr(), which is a Pandas dataframe method. This will give us the correlation matrix."
      ]
    },
    {
      "cell_type": "code",
      "metadata": {
        "colab_type": "code",
        "id": "3HgTdZRKqA2v",
        "outputId": "4897ac52-051f-44b1-f0f6-9b3c1edb6dcd",
        "colab": {
          "base_uri": "https://localhost:8080/",
          "height": 270
        }
      },
      "source": [
        "# Correlation matrix completely ignores any non-numeric column. \n",
        "sns.heatmap(iris.corr(), annot=True)\n",
        "plt.show()"
      ],
      "execution_count": 0,
      "outputs": [
        {
          "output_type": "display_data",
          "data": {
            "image/png": "[encoded data removed]",
            "text/plain": [
              "<Figure size 432x288 with 2 Axes>"
            ]
          },
          "metadata": {
            "tags": [],
            "needs_background": "light"
          }
        }
      ]
    },
    {
      "cell_type": "markdown",
      "metadata": {
        "id": "AK1QAkGPwmBV",
        "colab_type": "text"
      },
      "source": [
        "- Each square shows the correlation between the variables on each axis. \n",
        "- Correlation ranges from -1 to +1. \n",
        "- Values closer to zero means there is no linear trend between the two variables. \n",
        "- The more close to 1 the correlation is the more positively correlated they are; that is as one increases so does the other. \n",
        "- A correlation closer to -1 is similar, but instead of both increasing one variable will decrease as the other increases."
      ]
    },
    {
      "cell_type": "markdown",
      "metadata": {
        "id": "X24Td_Dq_4iQ",
        "colab_type": "text"
      },
      "source": [
        "_That's it with the basic Matplotlib and Seaborn commands. Let out your creativity and make beautiful, insightful plots!_"
      ]
    },
    {
      "cell_type": "markdown",
      "metadata": {
        "id": "smQYW58WfXer",
        "colab_type": "text"
      },
      "source": [
        "## 3. Optional - Additional Reading"
      ]
    },
    {
      "cell_type": "markdown",
      "metadata": {
        "colab_type": "text",
        "id": "bomCmrO3XM_Y"
      },
      "source": [
        "### 3.1. Bar Chart using `Matplotlib` \n",
        "\n",
        "Bar charts are one of the most common types of graphs and are used to show data associated with the categorical variables.\n",
        "\n",
        "`Pyplot` provides a `bar()` method to make bar graphs which take the following arguments: categorical variables, their values and color (if you want to specify any). Let's see some ways to display a bar graph with `matplotlib`:"
      ]
    },
    {
      "cell_type": "markdown",
      "metadata": {
        "id": "6108eBfF5AB0",
        "colab_type": "text"
      },
      "source": [
        "![Horizontal and Vertical Bar Charts](https://depictdatastudio.com/wp-content/uploads/2017/01/Depict-Data-Studio_Bar-Charts_Vertical-or-Horizontal.jpg)\n",
        "\n",
        "<div style=\"font-size: 12px\", align=\"center\">\n",
        "    Figure 3. Horizontal and Vertical Bar Charts\n",
        "</div >"
      ]
    },
    {
      "cell_type": "markdown",
      "metadata": {
        "colab_type": "text",
        "id": "0Yv0p6G7qA1g"
      },
      "source": [
        "####  Vertical Bar Charts"
      ]
    },
    {
      "cell_type": "code",
      "metadata": {
        "colab_type": "code",
        "id": "vepzkE6wXM_Z",
        "outputId": "f42b0976-79a4-4c3d-cc87-71d01717bbb1",
        "colab": {
          "base_uri": "https://localhost:8080/",
          "height": 295
        }
      },
      "source": [
        "plt.bar(x.region, x.crime_rate, color=\"green\")\n",
        "\n",
        "plt.title(\"Bar Graph\")\n",
        "plt.xlabel(\"Region\")\n",
        "plt.ylabel(\"Crime Rate\")\n",
        "plt.show()"
      ],
      "execution_count": 0,
      "outputs": [
        {
          "output_type": "display_data",
          "data": {
            "image/png": "[encoded data removed]",
            "text/plain": [
              "<Figure size 432x288 with 1 Axes>"
            ]
          },
          "metadata": {
            "tags": [],
            "needs_background": "light"
          }
        }
      ]
    },
    {
      "cell_type": "markdown",
      "metadata": {
        "colab_type": "text",
        "id": "cSVr546LqA1n"
      },
      "source": [
        "#### Horizontal Bar Charts"
      ]
    },
    {
      "cell_type": "markdown",
      "metadata": {
        "colab_type": "text",
        "id": "s1wI36WOqA1o"
      },
      "source": [
        "It’s also really simple to make a horizontal bar-chart using the plot.barh() method."
      ]
    },
    {
      "cell_type": "code",
      "metadata": {
        "colab_type": "code",
        "id": "HIDWcbB-XM_b",
        "outputId": "8d04a23b-bcea-4362-a492-c3b82a524612",
        "colab": {
          "base_uri": "https://localhost:8080/",
          "height": 281
        }
      },
      "source": [
        "plt.barh(x.region, x.crime_rate, color=\"green\")\n",
        "plt.title(\"Bar Graph\")\n",
        "plt.show()"
      ],
      "execution_count": 0,
      "outputs": [
        {
          "output_type": "display_data",
          "data": {
            "image/png": "[encoded data removed]",
            "text/plain": [
              "<Figure size 432x288 with 1 Axes>"
            ]
          },
          "metadata": {
            "tags": [],
            "needs_background": "light"
          }
        }
      ]
    },
    {
      "cell_type": "markdown",
      "metadata": {
        "colab_type": "text",
        "id": "zVU6J5RGqA1w"
      },
      "source": [
        "####  Bar Charts with multiple quantities"
      ]
    },
    {
      "cell_type": "markdown",
      "metadata": {
        "colab_type": "text",
        "id": "4zEEGcvEqA1x"
      },
      "source": [
        "When comparing several quantities and when changing one variable, we might want a bar chart where we have bars of one color for one quantity value.\n",
        "\n",
        "We can plot multiple bar charts by playing with the thickness and the positions of the bars."
      ]
    },
    {
      "cell_type": "code",
      "metadata": {
        "colab_type": "code",
        "id": "MB0aTBfoXM_e",
        "outputId": "0443510d-e082-4c0b-cf14-1fff1199fb3d",
        "colab": {
          "base_uri": "https://localhost:8080/",
          "height": 295
        }
      },
      "source": [
        "divisions = [\"A\", \"B\", \"C\", \"D\", \"E\"]\n",
        "division_avg = [70, 82, 73, 65, 68]\n",
        "boys_avg = [68, 67, 77, 61, 70]\n",
        "\n",
        "# Using the NumPy arange function to generate values for index between 0-4.\n",
        "# Here,stop is 5, start is 0, and step is 1\n",
        "index = np.arange(5) \n",
        "width = 0.30\n",
        "\n",
        "plt.bar(index, division_avg, width, color=\"green\", label=\"Division Marks\")\n",
        "plt.bar(index+width, boys_avg, width, color=\"blue\", label=\"Boys Marks\")\n",
        "\n",
        "plt.title(\"Bar Graph\")\n",
        "plt.xlabel(\"Divisions\")\n",
        "plt.ylabel(\"Marks\")\n",
        "plt.show()"
      ],
      "execution_count": 0,
      "outputs": [
        {
          "output_type": "display_data",
          "data": {
            "image/png": "[encoded data removed]",
            "text/plain": [
              "<Figure size 432x288 with 1 Axes>"
            ]
          },
          "metadata": {
            "tags": [],
            "needs_background": "light"
          }
        }
      ]
    },
    {
      "cell_type": "markdown",
      "metadata": {
        "colab_type": "text",
        "id": "hgBp9bs-qA14"
      },
      "source": [
        "####  Stacked Bar Chart"
      ]
    },
    {
      "cell_type": "markdown",
      "metadata": {
        "colab_type": "text",
        "id": "XSQTQkJHqA17"
      },
      "source": [
        "The stacked bar chart stacks bars that represent different groups on top of each other. The height of the resulting bar shows the combined result of the groups.\n",
        "\n",
        "The optional bottom parameter of the pyplot.bar() function allows you to specify a starting value for a bar. Instead of running from zero to a value, it will go from the bottom to the value. The first call to pyplot.bar() plots the blue bars. The second call to pyplot.bar() plots the green bars, with the bottom of the blue bars being at the top of the green bars."
      ]
    },
    {
      "cell_type": "code",
      "metadata": {
        "colab_type": "code",
        "id": "5KUmyUHKXM_h",
        "outputId": "ec7e6da2-391f-4fef-eaf1-2bf7b1a5d1db",
        "colab": {
          "base_uri": "https://localhost:8080/",
          "height": 295
        }
      },
      "source": [
        "divisions = [\"A\", \"B\", \"C\", \"D\", \"E\"]\n",
        "girls_avg = [72, 97, 69, 69, 66]\n",
        "boys_avg = [68, 67, 77, 61, 70]\n",
        "\n",
        "index = np.arange(5)\n",
        "width = 0.50\n",
        "\n",
        "plt.bar(index, boys_avg, width, color=\"green\", label=\"Boys Marks\")\n",
        "plt.bar(index, girls_avg, width, color=\"blue\", label=\"Girls Marks\", bottom=boys_avg)\n",
        "\n",
        "plt.title(\"Bar Graph\")\n",
        "plt.xlabel(\"Divisions\")\n",
        "plt.ylabel(\"Marks\")\n",
        "plt.show()"
      ],
      "execution_count": 0,
      "outputs": [
        {
          "output_type": "display_data",
          "data": {
            "image/png": "[encoded data removed]",
            "text/plain": [
              "<Figure size 432x288 with 1 Axes>"
            ]
          },
          "metadata": {
            "tags": [],
            "needs_background": "light"
          }
        }
      ]
    },
    {
      "cell_type": "markdown",
      "metadata": {
        "colab_type": "text",
        "id": "Ar-8zmQ8XM_j"
      },
      "source": [
        "### 3.2. Pie Chart using `Matplotlib`\n",
        "One more basic type of chart is a Pie chart which can be made using the method pie().\n",
        "\n",
        "Pie charts show the size of items (called wedge) in one data series, proportional to the sum of the items. The data points in a pie chart are shown as a percentage of the whole pie\n",
        "\n",
        "Parameters of a pie chart:\n",
        "- x: array-like. The wedge sizes.\n",
        "- labels: list. A sequence of strings providing the labels for each wedge.\n",
        "- Colors: A sequence of matplotlibcolorargs through which the pie chart will cycle. If None, will use the colors in the currently active cycle.\n",
        "- Autopct: string, used to label the wedges with their numeric value. The label will be placed inside the wedge. The format string will be fmt%pct.\n",
        "\n",
        "We can also pass in arguments to customize our Pie chart to show shadow, explode a part of it, tilt it at an angle as follows:"
      ]
    },
    {
      "cell_type": "code",
      "metadata": {
        "colab_type": "code",
        "id": "Lv8yMWLWXM_k",
        "outputId": "6bb49e85-008c-44d9-a786-ffe5bfcc1c78",
        "colab": {
          "base_uri": "https://localhost:8080/",
          "height": 251
        }
      },
      "source": [
        "firms = [\"Firm A\", \"Firm B\", \"Firm C\", \"Firm D\", \"Firm E\"]\n",
        "market_share = [20,25,15,10,20]\n",
        "\n",
        "# Explode the pie chart to emphasize a certain part or some parts( Firm B in this case) \n",
        "# It is useful because it makes the highlighted portion more visible.\n",
        "Explode = [0,0.1,0,0,0] \n",
        "\n",
        "plt.pie(market_share, explode=Explode, labels=firms, autopct='%1.1f%%', startangle=45)\n",
        "\n",
        "plt.axis('equal') # Equal aspect ratio ensures that pie is drawn as a circle.\n",
        "\n",
        "plt.legend(title=\"List of Firms\")\n",
        "\n",
        "plt.show()"
      ],
      "execution_count": 0,
      "outputs": [
        {
          "output_type": "display_data",
          "data": {
            "image/png": "[encoded data removed]",
            "text/plain": [
              "<Figure size 432x288 with 1 Axes>"
            ]
          },
          "metadata": {
            "tags": []
          }
        }
      ]
    }
  ]
}